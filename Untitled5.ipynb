{
  "nbformat": 4,
  "nbformat_minor": 0,
  "metadata": {
    "colab": {
      "provenance": [],
      "authorship_tag": "ABX9TyPdSjwGH1MIVLn0ZmofFYXg",
      "include_colab_link": true
    },
    "kernelspec": {
      "name": "python3",
      "display_name": "Python 3"
    },
    "language_info": {
      "name": "python"
    }
  },
  "cells": [
    {
      "cell_type": "markdown",
      "metadata": {
        "id": "view-in-github",
        "colab_type": "text"
      },
      "source": [
        "<a href=\"https://colab.research.google.com/github/fauzan-20-yo/TUGAS3PBO/blob/main/Untitled5.ipynb\" target=\"_parent\"><img src=\"https://colab.research.google.com/assets/colab-badge.svg\" alt=\"Open In Colab\"/></a>"
      ]
    },
    {
      "cell_type": "code",
      "execution_count": 1,
      "metadata": {
        "colab": {
          "base_uri": "https://localhost:8080/"
        },
        "id": "tuY2Kxcz_JO3",
        "outputId": "698b9fce-fab4-4ae3-e634-951993c18f28"
      },
      "outputs": [
        {
          "output_type": "stream",
          "name": "stdout",
          "text": [
            "Budi details:\n",
            "Rambut:  Ikal\n",
            "Warna Rambut:  Hitam\n",
            "\n",
            "Michael details:\n",
            "Rambut:  Lurus\n",
            "Warna Rambut:  Pirang\n"
          ]
        }
      ],
      "source": [
        "# Class Variable\n",
        "class Person:\n",
        "    person = 'Person'\n",
        "\n",
        "    # The init method or constructor\n",
        "    def __init__(self, rambut, warna):\n",
        "        # Instance Variable\n",
        "        self.rambut = rambut\n",
        "        self.warna = warna\n",
        "\n",
        "# Objects\n",
        "Budi = Person(\"Ikal\", \"Hitam\")\n",
        "Michael = Person(\"Lurus\", \"Pirang\")\n",
        "\n",
        "print('Budi details:')\n",
        "print('Rambut: ', Budi.rambut)\n",
        "print('Warna Rambut: ', Budi.warna)\n",
        "\n",
        "print('\\nMichael details:')\n",
        "print('Rambut: ', Michael.rambut)\n",
        "print('Warna Rambut: ', Michael.warna)\n"
      ]
    }
  ]
}